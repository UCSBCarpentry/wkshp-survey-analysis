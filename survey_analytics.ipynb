{
 "cells": [
  {
   "cell_type": "code",
   "execution_count": null,
   "id": "2c359628",
   "metadata": {},
   "outputs": [],
   "source": [
    "import pandas as pd"
   ]
  },
  {
   "cell_type": "markdown",
   "id": "02276f92",
   "metadata": {},
   "source": [
    "Questions Guiding Analytics\n",
    "\n",
    "1. How has the workshop affected the learner's comfortability and programming confidence?\n",
    "2. Workshop Involvement & Practical Knowledge\n",
    "3. Data Management and Analysis Skills Pre- and Post-Workshop"
   ]
  },
  {
   "cell_type": "code",
   "execution_count": null,
   "id": "699422c2",
   "metadata": {},
   "outputs": [],
   "source": [
    "whole_pre_survey = pd.read_csv(\"pre_placehold.csv\")\n",
    "\n",
    "whole_post_survey = pd.read_csv(\"post_placehold.csv\")"
   ]
  },
  {
   "cell_type": "code",
   "execution_count": null,
   "id": "29ee1ef0",
   "metadata": {},
   "outputs": [],
   "source": [
    "#exclude columns we don't want to look at\n",
    "pre_survey = whole_pre_survey.loc[:, ~whole_pre_survey.columns.isin(['StartDate', 'EndDate', 'Status', 'IPAddress', 'Progress', 'Duration (in seconds)', 'Finished', 'RecordedDate', 'ResponseId', 'RecipientLastName', 'RecipientFirstName', 'RecipientEmail', 'ExternalReference', 'LocationLatitude', 'LocationLongitude', 'DistributionChannel', 'UserLanguage'])]"
   ]
  },
  {
   "cell_type": "code",
   "execution_count": null,
   "id": "c849b5f5",
   "metadata": {},
   "outputs": [],
   "source": [
    "pre_survey.head(5)"
   ]
  },
  {
   "cell_type": "code",
   "execution_count": null,
   "id": "f86cfbdb",
   "metadata": {},
   "outputs": [],
   "source": [
    "post_survey = whole_post_survey.loc[:, ~whole_post_survey.columns.isin(['StartDate', 'EndDate', 'Status', 'IPAddress', 'Progress', 'Duration (in seconds)', 'Finished', 'RecordedDate', 'ResponseId', 'RecipientLastName', 'RecipientFirstName', 'RecipientEmail', 'ExternalReference', 'LocationLatitude', 'LocationLongitude', 'DistributionChannel', 'UserLanguage'])]"
   ]
  },
  {
   "cell_type": "code",
   "execution_count": null,
   "id": "f69f0d3b",
   "metadata": {},
   "outputs": [],
   "source": [
    "post_survey.head(5)"
   ]
  },
  {
   "cell_type": "code",
   "execution_count": null,
   "id": "1ce918e7",
   "metadata": {},
   "outputs": [],
   "source": [
    "#functions that makes the following objects...\n",
    "## pre_data: subset of the pre-workshop results of respondants who filled out both surveys\n",
    "## post_data: subset of the post-workshop results of respondants who filled out both surveys\n",
    "## Note: dropped extraneous rows for both df's\n",
    "\n",
    "def presurvey_filtering(pre_results, post_results):\n",
    "    comp_lst = []\n",
    "    single_lst = []\n",
    "    for i in post_results['QID1'].iloc[2:].tolist():\n",
    "        if i in pre_results['Q1'].iloc[2:].tolist():\n",
    "            comp_lst.append(i)\n",
    "        else:\n",
    "            single_lst.append(i)\n",
    "    pre_data = pre_results.loc[pre_results['Q1'].isin(comp_lst)]\n",
    "    return pre_data\n",
    "\n",
    "def postsurvey_filtering(pre_results, post_results):\n",
    "    comp_lst = []\n",
    "    single_lst = []\n",
    "    for i in post_results['QID1'].iloc[2:].tolist():\n",
    "        if i in pre_results['Q1'].iloc[2:].tolist():\n",
    "            comp_lst.append(i)\n",
    "        else:\n",
    "            single_lst.append(i)\n",
    "    post_data = post_results.loc[post_results['QID1'].isin(comp_lst)]\n",
    "    return post_data"
   ]
  },
  {
   "cell_type": "code",
   "execution_count": null,
   "id": "c29643ee",
   "metadata": {},
   "outputs": [],
   "source": [
    "#bad practice filling in na's as -99, but we exclude values based on this later\n",
    "pre_data = presurvey_filtering(pre_survey, post_survey).fillna(-99)\n",
    "post_data = postsurvey_filtering(pre_survey, post_survey).fillna(-99)"
   ]
  },
  {
   "cell_type": "markdown",
   "id": "38d54028",
   "metadata": {},
   "source": [
    "### Likert Scale Graph\n",
    "\n",
    "Address question 1"
   ]
  },
  {
   "cell_type": "code",
   "execution_count": null,
   "id": "8eedf41e",
   "metadata": {},
   "outputs": [],
   "source": [
    "#dictionary that contains the values for the Likert scale comparison\n",
    "for i in pre_data['Q1']:\n",
    "    pre_i = pre_data[['Q18_1', 'Q18_2', 'Q18_3', 'Q18_4', 'Q19_1', 'Q19_2', 'Q19_3']].loc[pre_data['Q1'] == i]\n",
    "    post_i = post_data[['Q18_1', 'Q18_2', 'Q18_3', 'Q18_4', 'Q19_1', 'Q19_2', 'Q19_3']].loc[post_data['QID1'] == i]\n",
    "    for ii in post_i.values.astype(int) - pre_i.values.astype(int):\n",
    "        Q18_1.append(ii[0])\n",
    "        Q18_2.append(ii[1])\n",
    "        Q18_3.append(ii[2])\n",
    "        Q18_4.append(ii[3])\n",
    "        Q19_1.append(ii[4])\n",
    "        Q19_2.append(ii[5])\n",
    "        Q19_3.append(ii[6])\n",
    "        \n",
    "likert_summary = {'Q18_1': Q18_1, 'Q18_2': Q18_2, 'Q18_3': Q18_3, 'Q18_4': Q18_4, 'Q19_1': Q19_1, 'Q19_2':Q19_2, 'Q19_3': Q19_3}"
   ]
  },
  {
   "cell_type": "code",
   "execution_count": null,
   "id": "a5653a95",
   "metadata": {},
   "outputs": [],
   "source": [
    "%matplotlib inline\n",
    "from plotnine import *"
   ]
  },
  {
   "cell_type": "code",
   "execution_count": null,
   "id": "ad5083b3",
   "metadata": {},
   "outputs": [],
   "source": [
    "likert_df = pd.DataFrame(data= likert_summary).T"
   ]
  },
  {
   "cell_type": "code",
   "execution_count": null,
   "id": "ff067fb1",
   "metadata": {},
   "outputs": [],
   "source": [
    "#exclude missing observations based on values (see fillna(-99))\n",
    "likert_df['mean'] = likert_df[(11 > likert_df[0:len(likert_df)]) & (likert_df[0:len(likert_df)] > -11)].mean(axis=1)\n",
    "likert_df['question'] = ['Q18_1', 'Q18_2', 'Q18_3', 'Q18_4', 'Q19_1', 'Q19_2', 'Q19_3']\n",
    "likert_df = likert_df.iloc[::-1]\n",
    "likert_df"
   ]
  },
  {
   "cell_type": "code",
   "execution_count": null,
   "id": "a03c47dd",
   "metadata": {},
   "outputs": [],
   "source": [
    "#final output for this section\n",
    "(ggplot()\n",
    " + geom_segment(\n",
    "     likert_df, \n",
    "     aes(x= 0 , xend='mean', y='question', yend='question'), size= 10)\n",
    " + scale_x_continuous(name= 'Mean Difference', breaks= (-5, -4, -3, -2, -1, 0, 1, 2, 3, 4, 5))\n",
    " + scale_y_discrete(name= 'Question')\n",
    " + geom_text(likert_df, \n",
    "             aes(x= 11, y='question', label= ['{:.2f}'.format(value) for value in likert_df['mean']]), \n",
    "             size=10, color= 'blue')\n",
    " + theme_light()\n",
    " + labs(title= 'Average Change between Pre- and Post- Workshop')\n",
    ")"
   ]
  },
  {
   "cell_type": "markdown",
   "id": "7c74ca0b",
   "metadata": {},
   "source": [
    "Q18_1: Having access to the original, raw data is important to be able to repeat an analysis.\n",
    "\n",
    "Q18_2: I can write a small program, script, or macro to address a problem in my own work.\n",
    "\n",
    "Q18_3: I know how to search for answers to my technical questions online.\n",
    "\n",
    "Q18_4: While working on a programming project, if I got stuck, I can find ways of overcoming the problem.\n",
    "\n",
    "Q19_1: I am confident in my ability to make use of programming software to work with data.\n",
    "\n",
    "Q19_2: Using a programming language (like R or Python) can make my analyses easier to reproduce.\n",
    "\n",
    "Q19_3: Using a programming language (like R or Python) can make me more efficient at working with data."
   ]
  }
 ],
 "metadata": {
  "kernelspec": {
   "display_name": "Python 3",
   "language": "python",
   "name": "python3"
  },
  "language_info": {
   "codemirror_mode": {
    "name": "ipython",
    "version": 3
   },
   "file_extension": ".py",
   "mimetype": "text/x-python",
   "name": "python",
   "nbconvert_exporter": "python",
   "pygments_lexer": "ipython3",
   "version": "3.8.8"
  }
 },
 "nbformat": 4,
 "nbformat_minor": 5
}
